{
 "cells": [
  {
   "cell_type": "code",
   "execution_count": 55,
   "metadata": {
    "vscode": {
     "languageId": "r"
    }
   },
   "outputs": [],
   "source": [
    "library(rnaturalearth)\n",
    "library(rnaturalearthdata)\n",
    "library(dplyr)\n",
    "library(tidyr)\n",
    "library(geosphere)\n",
    "library(ggplot2)\n",
    "library(maps)\n",
    "library(sf)"
   ]
  },
  {
   "cell_type": "code",
   "execution_count": 56,
   "metadata": {
    "vscode": {
     "languageId": "r"
    }
   },
   "outputs": [],
   "source": [
    "caracteristiques <- read.csv(\"caracteristique_drone.csv\", stringsAsFactors = FALSE)\n",
    "bases_lancement <- read.csv(\"bases_lancement.csv\", stringsAsFactors = FALSE)"
   ]
  },
  {
   "cell_type": "code",
   "execution_count": 57,
   "metadata": {
    "vscode": {
     "languageId": "r"
    }
   },
   "outputs": [],
   "source": [
    "# Création du dataframe des villes ukrainiennes les plus touchées par les drones Shahed\n",
    "villes_ukrainiennes <- data.frame(\n",
    "  nom = c(\"Kyiv\", \"Dnipro\", \"Kharkiv\", \"Odesa\", \"Kryvyï Rih\", \"Zaporijia\",\n",
    "          \"Kramatorsk\", \"Pavlohrad\", \"Okhtyrka\", \"Ouzyn\", \"Yahotyn\", \"Ternopil\", \"Buryn\",\n",
    "          \"Cherkasy\", \"Kodra\", \"Nizhyn\", \"Dibrivne\"),\n",
    "  lat = c(50.4501, 48.4647, 49.9935, 46.4825, 47.9073, 47.8252,\n",
    "          48.7233, 48.5208, 50.3121, 49.7965, 50.2623, 49.5486, 49.5909,\n",
    "          49.4875, 50.5660, 51.0480, 50.4826),  # Arrondi à 4 décimales\n",
    "  long = c(30.5234, 35.0462, 36.2502, 30.7233, 33.3850, 35.1683,\n",
    "           37.5783, 35.8790, 34.8986, 30.3244, 31.7689, 25.6458, 25.5609,\n",
    "           31.9752, 29.5638, 31.9355, 33.5608)  # Arrondi à 4 décimales\n",
    ")\n",
    "\n",
    "bases_russes <- bases_lancement %>%\n",
    "  select(Latitude, Longitude)"
   ]
  },
  {
   "cell_type": "code",
   "execution_count": 58,
   "metadata": {
    "vscode": {
     "languageId": "r"
    }
   },
   "outputs": [],
   "source": [
    "line_front_1 <- data.frame(\n",
    "  lat = c(48.532826797664846, 50.07933496745732),\n",
    "  long = c(38.45637663250045, 37.7658438650635)\n",
    ")\n",
    "\n",
    "line_front_2 <- data.frame(\n",
    "  lat = c(46.434198799864376, 48.532826797664846),\n",
    "  long = c(32.1672572599026, 38.45637663250045)\n",
    ")\n",
    "\n",
    "line_front_3 <- data.frame(\n",
    "  lat = c(50.07933496745732, 50.92405887999426),\n",
    "  long = c(37.7658438650635, 34.73281464092588)\n",
    ")\n",
    "\n",
    "line_front_4 <- data.frame(\n",
    "  lat = c(50.92405887999426, 52.2874298771795),\n",
    "  long = c(34.73281464092588, 33.2228480040779)\n",
    ")\n",
    "\n",
    "line_front_5 <- data.frame(\n",
    "  lat = c(52.2874298771795, 51.36480437280772),\n",
    "  long = c(33.2228480040779, 28.681296931138895)\n",
    ")\n",
    "\n",
    "line_front_6 <- data.frame(\n",
    "  lat = c(51.36480437280772, 51.633903542920415),\n",
    "  long = c(28.681296931138895, 23.804251089502966)\n",
    ")\n",
    "\n",
    "line_front_7 <- data.frame(\n",
    "  lat = c(51.633903542920415, 48.35732598510753),\n",
    "  long = c(23.804251089502966, 22.427459199975896)\n",
    ")\n",
    "\n",
    "line_front_8 <- data.frame(\n",
    "  lat = c(48.35732598510753, 48.078730771810925),\n",
    "  long = c(22.427459199975896, 29.422670952108504)\n",
    ")\n",
    "\n",
    "line_front_9 <- data.frame(\n",
    "  lat = c(48.078730771810925, 45.30127917139041),\n",
    "  long = c(29.422670952108504, 28.414621049701758)\n",
    ")\n",
    "\n",
    "line_front_10 <- data.frame(\n",
    "  lat = c(45.30127917139041, 46.434198799864376),\n",
    "  long = c(28.414621049701758, 32.1672572599026)\n",
    ")\n",
    "\n",
    "\n",
    "# List of all fronts in the correct order for polygon construction\n",
    "front_lines <- list(\n",
    "  line_front_1,\n",
    "  line_front_2,\n",
    "  line_front_3,\n",
    "  line_front_4,\n",
    "  line_front_5,\n",
    "  line_front_6,\n",
    "  line_front_7,\n",
    "  line_front_8,\n",
    "  line_front_9,\n",
    "  line_front_10\n",
    ")\n",
    "\n",
    "# Combine all lines into segments for polygon construction\n",
    "border_segments <- lapply(front_lines, function(line) {\n",
    "  st_linestring(as.matrix(line))\n",
    "})"
   ]
  },
  {
   "cell_type": "code",
   "execution_count": 59,
   "metadata": {
    "vscode": {
     "languageId": "r"
    }
   },
   "outputs": [],
   "source": [
    "# Constante de latitude et longitude pour séparer les zones\n",
    "latitude_limite <- 48.532826797664846\n",
    "limiteLongitude <- 33"
   ]
  },
  {
   "cell_type": "markdown",
   "metadata": {},
   "source": [
    "Fonction pour la génération des trajectoires"
   ]
  },
  {
   "cell_type": "code",
   "execution_count": 60,
   "metadata": {
    "vscode": {
     "languageId": "r"
    }
   },
   "outputs": [],
   "source": [
    "interpolate_points <- function(lat_start, lon_start, lat_end, lon_end, interval_km = 2) {\n",
    "  dist_total <- distHaversine(c(lon_start, lat_start), c(lon_end, lat_end))\n",
    "  num_points <- ceiling(dist_total / (interval_km * 1000))\n",
    "  interpolated_coords <- geosphere::gcIntermediate(\n",
    "    c(lon_start, lat_start), c(lon_end, lat_end),\n",
    "    n = num_points, addStartEnd = TRUE, breakAtDateLine = FALSE\n",
    "  )\n",
    "  data.frame(lat = interpolated_coords[,2], long = interpolated_coords[,1])\n",
    "}"
   ]
  },
  {
   "cell_type": "code",
   "execution_count": 61,
   "metadata": {
    "vscode": {
     "languageId": "r"
    }
   },
   "outputs": [],
   "source": [
    "# Fonction principale pour simuler les trajectoires des drones\n",
    "simulate_trajectories <- function(nombre_drones, caracteristiques, bases_russes, villes_ukrainiennes, line_front_1, line_front_2, line_front_3, line_front_4, latitude_limite, limiteLongitude, interpolate_points) {\n",
    "  trajectoires <- data.frame()\n",
    "  \n",
    "  for (i in 1:nombre_drones) {\n",
    "    drone_id <- paste0(\"Drone_\", i)\n",
    "    drone <- select_random_drone(caracteristiques)\n",
    "    \n",
    "    if (runif(1) < 0.5) {\n",
    "      # Drones russes\n",
    "      trajectoire <- simulate_russian_drone(i, drone, bases_russes, line_front_1, line_front_2, line_front_3, line_front_4, villes_ukrainiennes, latitude_limite, limiteLongitude, interpolate_points, drone_id)\n",
    "    } else {\n",
    "      # Drones ukrainiens\n",
    "      trajectoire <- simulate_ukrainian_drone(i, drone, villes_ukrainiennes, bases_russes, line_front_1, line_front_2, line_front_3, line_front_4, latitude_limite, limiteLongitude, interpolate_points, drone_id)\n",
    "    }\n",
    "    \n",
    "    trajectoires <- rbind(trajectoires, trajectoire)\n",
    "  }\n",
    "  \n",
    "  return(trajectoires)\n",
    "}"
   ]
  },
  {
   "cell_type": "code",
   "execution_count": 62,
   "metadata": {
    "vscode": {
     "languageId": "r"
    }
   },
   "outputs": [],
   "source": [
    "# Fonction pour sélectionner un drone aléatoire\n",
    "select_random_drone <- function(caracteristiques) {\n",
    "  return(caracteristiques[sample(nrow(caracteristiques), 1), ])\n",
    "}"
   ]
  },
  {
   "cell_type": "code",
   "execution_count": 63,
   "metadata": {
    "vscode": {
     "languageId": "r"
    }
   },
   "outputs": [],
   "source": [
    "# Fonction pour simuler un drone russe\n",
    "simulate_russian_drone <- function(i, drone, bases_russes, line_front_1, line_front_2, line_front_3, line_front_4, villes_ukrainiennes, latitude_limite, limiteLongitude, interpolate_points, drone_id) {\n",
    "  base_lancement <- bases_russes[sample(nrow(bases_russes), 1), ]\n",
    "  lat_depart <- base_lancement$Latitude\n",
    "  long_depart <- base_lancement$Longitude\n",
    "  origine <- \"Russe\"\n",
    "  \n",
    "  if (lat_depart >= latitude_limite) {\n",
    "    # Drones partant du nord\n",
    "    if (drone$Type == \"Suicide\") {\n",
    "      cible <- villes_ukrainiennes[villes_ukrainiennes$lat >= latitude_limite, ][sample(nrow(villes_ukrainiennes[villes_ukrainiennes$lat >= latitude_limite, ]), 1), ]\n",
    "      return(generate_suicide_trajectory(drone_id, i, drone$Type, origine, lat_depart, long_depart, cible$lat, cible$long, interpolate_points))\n",
    "    } else {\n",
    "      chosen_front <- sample(c(\"line_front_1\", \"line_front_3\", \"line_front_4\"), size = 1, prob = c(0.5, 0.25, 0.25))\n",
    "      front <- get(chosen_front)\n",
    "      return(generate_patrol_trajectory(drone_id, i, drone$Type, origine, lat_depart, long_depart, front, interpolate_points))\n",
    "    }\n",
    "  } else {\n",
    "    # Drones partant du sud\n",
    "    if (drone$Type == \"Suicide\") {\n",
    "      cible <- villes_ukrainiennes[villes_ukrainiennes$lat < latitude_limite, ][sample(nrow(villes_ukrainiennes[villes_ukrainiennes$lat < latitude_limite, ]), 1), ]\n",
    "      return(generate_suicide_trajectory(drone_id, i, drone$Type, origine, lat_depart, long_depart, cible$lat, cible$long, interpolate_points))\n",
    "    } else {\n",
    "      return(generate_patrol_trajectory(drone_id, i, drone$Type, origine, lat_depart, long_depart, line_front_2, interpolate_points))\n",
    "    }\n",
    "  }\n",
    "}"
   ]
  },
  {
   "cell_type": "code",
   "execution_count": 64,
   "metadata": {
    "vscode": {
     "languageId": "r"
    }
   },
   "outputs": [],
   "source": [
    "# Fonction pour simuler un drone ukrainien\n",
    "simulate_ukrainian_drone <- function(i, drone, villes_ukrainiennes, bases_russes, line_front_1, line_front_2, line_front_3, line_front_4, latitude_limite, limiteLongitude, interpolate_points, drone_id) {\n",
    "  ville_depart <- villes_ukrainiennes[villes_ukrainiennes$long > limiteLongitude, ][sample(nrow(villes_ukrainiennes[villes_ukrainiennes$long > limiteLongitude, ]), 1), ]\n",
    "  lat_depart <- ville_depart$lat\n",
    "  long_depart <- ville_depart$long\n",
    "  origine <- \"Ukrainien\"\n",
    "  \n",
    "  if (lat_depart >= latitude_limite) {\n",
    "    if (drone$Type == \"Suicide\") {\n",
    "      cible <- bases_russes[bases_russes$Latitude >= latitude_limite, ][sample(nrow(bases_russes[bases_russes$Latitude >= latitude_limite, ]), 1), ]\n",
    "      return(generate_suicide_trajectory(drone_id, i, drone$Type, origine, lat_depart, long_depart, cible$Latitude, cible$Longitude, interpolate_points))\n",
    "    } else {\n",
    "      chosen_front <- sample(c(\"line_front_1\", \"line_front_3\", \"line_front_4\"), size = 1, prob = c(0.5, 0.25, 0.25))\n",
    "      front <- get(chosen_front)\n",
    "      return(generate_patrol_trajectory(drone_id, i, drone$Type, origine, lat_depart, long_depart, front, interpolate_points, invert_direction = TRUE))\n",
    "    }\n",
    "  } else {\n",
    "    if (drone$Type == \"Suicide\") {\n",
    "      cible <- bases_russes[bases_russes$Latitude < latitude_limite, ][sample(nrow(bases_russes[bases_russes$Latitude < latitude_limite, ]), 1), ]\n",
    "      return(generate_suicide_trajectory(drone_id, i, drone$Type, origine, lat_depart, long_depart, cible$Latitude, cible$Longitude, interpolate_points))\n",
    "    } else {\n",
    "      return(generate_patrol_trajectory(drone_id, i, drone$Type, origine, lat_depart, long_depart, line_front_2, interpolate_points, invert_direction = TRUE))\n",
    "    }\n",
    "  }\n",
    "}"
   ]
  },
  {
   "cell_type": "code",
   "execution_count": 65,
   "metadata": {
    "vscode": {
     "languageId": "r"
    }
   },
   "outputs": [],
   "source": [
    "# Fonction pour générer une trajectoire de type suicide\n",
    "generate_suicide_trajectory <- function(drone_id, iteration, drone_type, origine, lat_depart, long_depart, lat_arrivee, long_arrivee, interpolate_points) {\n",
    "  trajectoire <- interpolate_points(lat_depart, long_depart, lat_arrivee, long_arrivee)\n",
    "  return(cbind(data.frame(Drone_ID = drone_id, Drone_Type = drone_type, Origine = origine, Segment = \"Suicide\", Iteration = iteration), trajectoire))\n",
    "}"
   ]
  },
  {
   "cell_type": "code",
   "execution_count": 66,
   "metadata": {
    "vscode": {
     "languageId": "r"
    }
   },
   "outputs": [],
   "source": [
    "# Fonction pour générer une trajectoire de patrouille\n",
    "generate_patrol_trajectory <- function(drone_id, iteration, drone_type, origine, lat_depart, long_depart, line_front, interpolate_points, invert_direction = FALSE) {\n",
    "  t <- runif(1)\n",
    "  lat_debut_patrouille <- line_front$lat[1] + t * (line_front$lat[2] - line_front$lat[1]) + runif(1, -0.01, 0.01)\n",
    "  long_debut_patrouille <- line_front$long[1] + t * (line_front$long[2] - line_front$long[1]) + runif(1, -0.01, 0.01)\n",
    "  \n",
    "  dx <- line_front$long[2] - line_front$long[1]\n",
    "  dy <- line_front$lat[2] - line_front$lat[1]\n",
    "  norm <- sqrt(dx^2 + dy^2)\n",
    "  ux <- dx / norm\n",
    "  uy <- dy / norm\n",
    "\n",
    "  angle <- runif(1, 0, 180) * pi / 180\n",
    "  if (invert_direction) {\n",
    "    ux <- -ux\n",
    "    uy <- -uy\n",
    "  }\n",
    "\n",
    "  ux_patrouille <- cos(angle) * ux - sin(angle) * uy\n",
    "  uy_patrouille <- sin(angle) * ux + cos(angle) * uy\n",
    "\n",
    "  distance_patrouille <- runif(1, 0.3, 1)\n",
    "  lat_fin_patrouille <- lat_debut_patrouille + uy_patrouille * distance_patrouille\n",
    "  long_fin_patrouille <- long_debut_patrouille + ux_patrouille * distance_patrouille\n",
    "\n",
    "  trajectoire_allee <- interpolate_points(lat_depart, long_depart, lat_debut_patrouille, long_debut_patrouille)\n",
    "  trajectoire_allee <- cbind(data.frame(Segment = \"Allée\", Drone_ID = drone_id, Drone_Type = drone_type, Origine = origine, Iteration = iteration), trajectoire_allee)\n",
    "\n",
    "  trajectoire_patrouille <- interpolate_points(lat_debut_patrouille, long_debut_patrouille, lat_fin_patrouille, long_fin_patrouille)\n",
    "  trajectoire_patrouille <- cbind(data.frame(Segment = \"Patrouille\", Drone_ID = drone_id, Drone_Type = drone_type, Origine = origine, Iteration = iteration), trajectoire_patrouille)\n",
    "\n",
    "  trajectoire_retour <- interpolate_points(lat_fin_patrouille, long_fin_patrouille, lat_depart, long_depart)\n",
    "  trajectoire_retour <- cbind(data.frame(Segment = \"Retour\", Drone_ID = drone_id, Drone_Type = drone_type, Origine = origine, Iteration = iteration), trajectoire_retour)\n",
    "\n",
    "  return(rbind(trajectoire_allee, trajectoire_patrouille, trajectoire_retour))\n",
    "}"
   ]
  },
  {
   "cell_type": "code",
   "execution_count": 67,
   "metadata": {
    "vscode": {
     "languageId": "r"
    }
   },
   "outputs": [],
   "source": [
    "# Fonction pour générer la vitesse d'un drone\n",
    "generate_speed <- function(type_drone, origine) {\n",
    "  # Définir les vitesses de croisière et les vitesses maximales\n",
    "  if (origine == \"Russe\") {\n",
    "    if (type_drone == \"Suicide\") {\n",
    "      vitesse_croisiere <- 100  # Vitesse de croisière pour un drone Suicide russe\n",
    "      vitesse_max <- 150  # Vitesse maximale pour un drone Suicide russe\n",
    "    } else if (type_drone == \"Reconnaissance\") {\n",
    "      vitesse_croisiere <- 120  # Vitesse de croisière pour un drone Reconnaissance russe\n",
    "      vitesse_max <- 180  # Vitesse maximale pour un drone Reconnaissance russe\n",
    "    }\n",
    "  } else if (origine == \"Ukrainien\") {\n",
    "    if (type_drone == \"Suicide\") {\n",
    "      vitesse_croisiere <- 90  # Vitesse de croisière pour un drone Suicide ukrainien\n",
    "      vitesse_max <- 130  # Vitesse maximale pour un drone Suicide ukrainien\n",
    "    } else if (type_drone == \"Reconnaissance\") {\n",
    "      vitesse_croisiere <- 110  # Vitesse de croisière pour un drone Reconnaissance ukrainien\n",
    "      vitesse_max <- 160  # Vitesse maximale pour un drone Reconnaissance ukrainien\n",
    "    }\n",
    "  }\n",
    "\n",
    "  # Définir un écart-type pour la variabilité de la vitesse (10% de la vitesse de croisière)\n",
    "  ecart_type <- vitesse_croisiere * 0.1  # Variabilité de 10% autour de la vitesse de croisière\n",
    "  \n",
    "  # Générer une vitesse selon une loi normale autour de la vitesse de croisière\n",
    "  vitesse <- rnorm(1, mean = vitesse_croisiere, sd = ecart_type)\n",
    "  \n",
    "  # Appliquer les contraintes de vitesse\n",
    "  vitesse <- max(vitesse, 0.8 * vitesse_croisiere)  # La vitesse ne doit pas être inférieure à 20% de la vitesse de croisière\n",
    "  vitesse <- min(vitesse, vitesse_max)  # La vitesse ne doit pas dépasser la vitesse maximale\n",
    "  \n",
    "  return(vitesse)\n",
    "}"
   ]
  },
  {
   "cell_type": "code",
   "execution_count": 68,
   "metadata": {
    "vscode": {
     "languageId": "r"
    }
   },
   "outputs": [],
   "source": [
    "# Fonction pour générer l'altitude d'un drone\n",
    "generate_altitude <- function(type_drone, origine, altitude_max, altitude_min) {\n",
    "  # Définir l'altitude cible autour de 20% en dessous de l'altitude maximale\n",
    "  altitude_cible <- altitude_max * 0.8  # 20% sous l'altitude maximale\n",
    "\n",
    "  # Définir un écart-type pour la variabilité de l'altitude (10% de l'altitude cible)\n",
    "  ecart_type <- altitude_cible * 0.1  # Variabilité de 10% autour de l'altitude cible\n",
    "  \n",
    "  # Générer une altitude selon une loi normale autour de l'altitude cible\n",
    "  altitude <- rnorm(1, mean = altitude_cible, sd = ecart_type)\n",
    "  \n",
    "  # Appliquer les contraintes d'altitude\n",
    "  altitude <- max(altitude, altitude_min)  # L'altitude ne doit pas être inférieure à l'altitude minimale\n",
    "  altitude <- min(altitude, altitude_max)  # L'altitude ne doit pas dépasser l'altitude maximale\n",
    "  \n",
    "  return(altitude)\n",
    "}"
   ]
  },
  {
   "cell_type": "code",
   "execution_count": 69,
   "metadata": {
    "vscode": {
     "languageId": "r"
    }
   },
   "outputs": [],
   "source": [
    "# Fonction pour calculer la distance entre deux points en km\n",
    "calculate_distance <- function(lat1, lon1, lat2, lon2) {\n",
    "  R <- 6371  # Rayon moyen de la Terre en km\n",
    "  delta_lat <- (lat2 - lat1) * pi / 180\n",
    "  delta_lon <- (lon2 - lon1) * pi / 180\n",
    "  a <- sin(delta_lat / 2)^2 + cos(lat1 * pi / 180) * cos(lat2 * pi / 180) * sin(delta_lon / 2)^2\n",
    "  c <- 2 * atan2(sqrt(a), sqrt(1 - a))\n",
    "  return(R * c)\n",
    "}"
   ]
  },
  {
   "cell_type": "code",
   "execution_count": 74,
   "metadata": {
    "vscode": {
     "languageId": "r"
    }
   },
   "outputs": [
    {
     "data": {
      "text/html": [
       "<table class=\"dataframe\">\n",
       "<caption>A tibble: 6 × 12</caption>\n",
       "<thead>\n",
       "\t<tr><th scope=col>Drone_ID</th><th scope=col>Drone_Type</th><th scope=col>Origine</th><th scope=col>Segment</th><th scope=col>Iteration</th><th scope=col>lat</th><th scope=col>long</th><th scope=col>Nom</th><th scope=col>Vitesse</th><th scope=col>Altitude</th><th scope=col>Distance_Cumulee</th><th scope=col>Temps_Ecoule</th></tr>\n",
       "\t<tr><th scope=col>&lt;chr&gt;</th><th scope=col>&lt;chr&gt;</th><th scope=col>&lt;chr&gt;</th><th scope=col>&lt;chr&gt;</th><th scope=col>&lt;int&gt;</th><th scope=col>&lt;dbl&gt;</th><th scope=col>&lt;dbl&gt;</th><th scope=col>&lt;chr&gt;</th><th scope=col>&lt;dbl&gt;</th><th scope=col>&lt;dbl&gt;</th><th scope=col>&lt;dbl&gt;</th><th scope=col>&lt;dbl&gt;</th></tr>\n",
       "</thead>\n",
       "<tbody>\n",
       "\t<tr><td>Drone_1</td><td>Suicide</td><td>Ukrainien</td><td>Suicide</td><td>1</td><td>47.90730</td><td>33.38500</td><td>Babor</td><td> 88.62709</td><td>278.1377</td><td>0.000000</td><td>0.00000000</td></tr>\n",
       "\t<tr><td>Drone_1</td><td>Suicide</td><td>Ukrainien</td><td>Suicide</td><td>1</td><td>47.88950</td><td>33.38609</td><td>Babor</td><td> 93.31744</td><td>336.6183</td><td>1.980528</td><td>0.02122356</td></tr>\n",
       "\t<tr><td>Drone_1</td><td>Suicide</td><td>Ukrainien</td><td>Suicide</td><td>1</td><td>47.87171</td><td>33.38717</td><td>Babor</td><td> 79.59781</td><td>335.8515</td><td>3.961056</td><td>0.04976339</td></tr>\n",
       "\t<tr><td>Drone_1</td><td>Suicide</td><td>Ukrainien</td><td>Suicide</td><td>1</td><td>47.85391</td><td>33.38826</td><td>Babor</td><td> 93.76041</td><td>341.9991</td><td>5.941585</td><td>0.06336986</td></tr>\n",
       "\t<tr><td>Drone_1</td><td>Suicide</td><td>Ukrainien</td><td>Suicide</td><td>1</td><td>47.83611</td><td>33.38935</td><td>Babor</td><td>101.74465</td><td>342.3228</td><td>7.922113</td><td>0.07786269</td></tr>\n",
       "\t<tr><td>Drone_1</td><td>Suicide</td><td>Ukrainien</td><td>Suicide</td><td>1</td><td>47.81832</td><td>33.39043</td><td>Babor</td><td>106.17041</td><td>354.6104</td><td>9.902641</td><td>0.09327120</td></tr>\n",
       "</tbody>\n",
       "</table>\n"
      ],
      "text/latex": [
       "A tibble: 6 × 12\n",
       "\\begin{tabular}{llllllllllll}\n",
       " Drone\\_ID & Drone\\_Type & Origine & Segment & Iteration & lat & long & Nom & Vitesse & Altitude & Distance\\_Cumulee & Temps\\_Ecoule\\\\\n",
       " <chr> & <chr> & <chr> & <chr> & <int> & <dbl> & <dbl> & <chr> & <dbl> & <dbl> & <dbl> & <dbl>\\\\\n",
       "\\hline\n",
       "\t Drone\\_1 & Suicide & Ukrainien & Suicide & 1 & 47.90730 & 33.38500 & Babor &  88.62709 & 278.1377 & 0.000000 & 0.00000000\\\\\n",
       "\t Drone\\_1 & Suicide & Ukrainien & Suicide & 1 & 47.88950 & 33.38609 & Babor &  93.31744 & 336.6183 & 1.980528 & 0.02122356\\\\\n",
       "\t Drone\\_1 & Suicide & Ukrainien & Suicide & 1 & 47.87171 & 33.38717 & Babor &  79.59781 & 335.8515 & 3.961056 & 0.04976339\\\\\n",
       "\t Drone\\_1 & Suicide & Ukrainien & Suicide & 1 & 47.85391 & 33.38826 & Babor &  93.76041 & 341.9991 & 5.941585 & 0.06336986\\\\\n",
       "\t Drone\\_1 & Suicide & Ukrainien & Suicide & 1 & 47.83611 & 33.38935 & Babor & 101.74465 & 342.3228 & 7.922113 & 0.07786269\\\\\n",
       "\t Drone\\_1 & Suicide & Ukrainien & Suicide & 1 & 47.81832 & 33.39043 & Babor & 106.17041 & 354.6104 & 9.902641 & 0.09327120\\\\\n",
       "\\end{tabular}\n"
      ],
      "text/markdown": [
       "\n",
       "A tibble: 6 × 12\n",
       "\n",
       "| Drone_ID &lt;chr&gt; | Drone_Type &lt;chr&gt; | Origine &lt;chr&gt; | Segment &lt;chr&gt; | Iteration &lt;int&gt; | lat &lt;dbl&gt; | long &lt;dbl&gt; | Nom &lt;chr&gt; | Vitesse &lt;dbl&gt; | Altitude &lt;dbl&gt; | Distance_Cumulee &lt;dbl&gt; | Temps_Ecoule &lt;dbl&gt; |\n",
       "|---|---|---|---|---|---|---|---|---|---|---|---|\n",
       "| Drone_1 | Suicide | Ukrainien | Suicide | 1 | 47.90730 | 33.38500 | Babor |  88.62709 | 278.1377 | 0.000000 | 0.00000000 |\n",
       "| Drone_1 | Suicide | Ukrainien | Suicide | 1 | 47.88950 | 33.38609 | Babor |  93.31744 | 336.6183 | 1.980528 | 0.02122356 |\n",
       "| Drone_1 | Suicide | Ukrainien | Suicide | 1 | 47.87171 | 33.38717 | Babor |  79.59781 | 335.8515 | 3.961056 | 0.04976339 |\n",
       "| Drone_1 | Suicide | Ukrainien | Suicide | 1 | 47.85391 | 33.38826 | Babor |  93.76041 | 341.9991 | 5.941585 | 0.06336986 |\n",
       "| Drone_1 | Suicide | Ukrainien | Suicide | 1 | 47.83611 | 33.38935 | Babor | 101.74465 | 342.3228 | 7.922113 | 0.07786269 |\n",
       "| Drone_1 | Suicide | Ukrainien | Suicide | 1 | 47.81832 | 33.39043 | Babor | 106.17041 | 354.6104 | 9.902641 | 0.09327120 |\n",
       "\n"
      ],
      "text/plain": [
       "  Drone_ID Drone_Type Origine   Segment Iteration lat      long     Nom  \n",
       "1 Drone_1  Suicide    Ukrainien Suicide 1         47.90730 33.38500 Babor\n",
       "2 Drone_1  Suicide    Ukrainien Suicide 1         47.88950 33.38609 Babor\n",
       "3 Drone_1  Suicide    Ukrainien Suicide 1         47.87171 33.38717 Babor\n",
       "4 Drone_1  Suicide    Ukrainien Suicide 1         47.85391 33.38826 Babor\n",
       "5 Drone_1  Suicide    Ukrainien Suicide 1         47.83611 33.38935 Babor\n",
       "6 Drone_1  Suicide    Ukrainien Suicide 1         47.81832 33.39043 Babor\n",
       "  Vitesse   Altitude Distance_Cumulee Temps_Ecoule\n",
       "1  88.62709 278.1377 0.000000         0.00000000  \n",
       "2  93.31744 336.6183 1.980528         0.02122356  \n",
       "3  79.59781 335.8515 3.961056         0.04976339  \n",
       "4  93.76041 341.9991 5.941585         0.06336986  \n",
       "5 101.74465 342.3228 7.922113         0.07786269  \n",
       "6 106.17041 354.6104 9.902641         0.09327120  "
      ]
     },
     "metadata": {},
     "output_type": "display_data"
    }
   ],
   "source": [
    "# Simulation des trajectoires\n",
    "set.seed(123)\n",
    "trajectoires <- simulate_trajectories(nombre_drones = 1000, caracteristiques = caracteristiques, bases_russes = bases_russes, \n",
    "                                      villes_ukrainiennes = villes_ukrainiennes, line_front_1 = line_front_1, line_front_2 = line_front_2, \n",
    "                                      line_front_3 = line_front_3, line_front_4 = line_front_4, \n",
    "                                      latitude_limite = latitude_limite, limiteLongitude = limiteLongitude, interpolate_points = interpolate_points)\n",
    "\n",
    "# Ajout des vitesses et altitudes aux trajectoires\n",
    "trajectoires <- trajectoires %>%\n",
    "  left_join(caracteristiques, by = c(\"Drone_Type\" = \"Type\", \"Origine\" = \"Origine\")) %>%\n",
    "  mutate(\n",
    "    Vitesse = mapply(generate_speed, Drone_Type, Origine),\n",
    "    Altitude = mapply(generate_altitude, Drone_Type, Origine, Altitudemax, Altitudemin)\n",
    "  ) %>%\n",
    "  select(-Altitudemax, -Altitudemin, -Vitessemax, -Portee.km., -Cruisespeed, -Porteeusuelle) %>%\n",
    "  group_by(Drone_ID) %>%  # Calcul par drone\n",
    "  mutate(\n",
    "    # Calcul de la distance cumulée\n",
    "    Distance_Cumulee = cumsum(\n",
    "      c(0, mapply(calculate_distance, lat[-n()], long[-n()], lat[-1], long[-1]))\n",
    "    ),\n",
    "    # Temps écoulé en heures\n",
    "    Temps_Ecoule = Distance_Cumulee / Vitesse\n",
    "  ) %>%\n",
    "  ungroup()\n",
    "\n",
    "# Afficher les premières lignes des trajectoires complètes\n",
    "head(trajectoires)"
   ]
  },
  {
   "cell_type": "markdown",
   "metadata": {},
   "source": [
    "Filtrage des données hors des frontières"
   ]
  },
  {
   "cell_type": "code",
   "execution_count": 71,
   "metadata": {
    "vscode": {
     "languageId": "r"
    }
   },
   "outputs": [
    {
     "name": "stdout",
     "output_type": "stream",
     "text": [
      "[1] \"Conversion des trajectoires en sf réussie...\"\n",
      "[1] \"Création du polygone mis à jour réussie...\"\n",
      "[1] \"Ajout de la colonne `within_updated` réussi...\"\n",
      "[1] \"Carte générée avec succès...\"\n",
      "[1] \"Sauvegarde du CSV réussie...\"\n"
     ]
    },
    {
     "data": {
      "image/png": "[encoded data removed]",
      "text/plain": [
       "plot without title"
      ]
     },
     "metadata": {
      "image/png": {
       "height": 420,
       "width": 420
      }
     },
     "output_type": "display_data"
    }
   ],
   "source": [
    "trajectoires_sf <- st_as_sf(trajectoires, coords = c(\"long\", \"lat\"), crs = 4326) %>%\n",
    "  mutate(\n",
    "    long = st_coordinates(geometry)[, 1],  # Extraire la longitude\n",
    "    lat = st_coordinates(geometry)[, 2]   # Extraire la latitude\n",
    "  )\n",
    "\n",
    "print(\"Conversion des trajectoires en sf réussie...\")\n",
    "\n",
    "line_front_1_updated <- st_linestring(matrix(c(38.45637663250045, 48.532826797664846,\n",
    "                                               37.7658438650635, 50.07933496745732), ncol = 2, byrow = TRUE))\n",
    "line_front_2_updated <- st_linestring(matrix(c(32.1672572599026, 46.434198799864376,\n",
    "                                               38.45637663250045, 48.532826797664846), ncol = 2, byrow = TRUE))\n",
    "line_front_3_updated <- st_linestring(matrix(c(37.7658438650635, 50.07933496745732,\n",
    "                                               34.73281464092588, 50.92405887999426), ncol = 2, byrow = TRUE))\n",
    "line_front_4_updated <- st_linestring(matrix(c(34.73281464092588, 50.92405887999426,\n",
    "                                               33.2228480040779, 52.2874298771795), ncol = 2, byrow = TRUE))\n",
    "line_front_5_updated <- st_linestring(matrix(c(33.2228480040779, 52.2874298771795,\n",
    "                                               28.681296931138895, 51.36480437280772), ncol = 2, byrow = TRUE))\n",
    "line_front_6_updated <- st_linestring(matrix(c(28.681296931138895, 51.36480437280772,\n",
    "                                               23.804251089502966, 51.633903542920415), ncol = 2, byrow = TRUE))\n",
    "line_front_7_updated <- st_linestring(matrix(c(23.804251089502966, 51.633903542920415,\n",
    "                                               22.427459199975896, 48.35732598510753), ncol = 2, byrow = TRUE))\n",
    "line_front_8_updated <- st_linestring(matrix(c(22.427459199975896, 48.35732598510753,\n",
    "                                               29.422670952108504, 48.078730771810925), ncol = 2, byrow = TRUE))\n",
    "line_front_9_updated <- st_linestring(matrix(c(29.422670952108504, 48.078730771810925,\n",
    "                                               28.414621049701758, 45.30127917139041), ncol = 2, byrow = TRUE))\n",
    "line_front_10_updated <- st_linestring(matrix(c(28.414621049701758, 45.30127917139041,\n",
    "                                                32.1672572599026, 46.434198799864376), ncol = 2, byrow = TRUE))\n",
    "# Combinez toutes les lignes\n",
    "front_lines_updated <- st_sfc(list(line_front_1_updated, line_front_2_updated, line_front_3_updated, line_front_4_updated, line_front_5_updated, line_front_6_updated, line_front_7_updated, line_front_8_updated, line_front_9_updated, line_front_10_updated), crs = 4326)\n",
    "front_polygon_updated <- st_union(front_lines_updated) %>% st_cast(\"POLYGON\")\n",
    "\n",
    "print(\"Création du polygone mis à jour réussie...\")\n",
    "\n",
    "# Vérifier si les points sont dans le polygone\n",
    "trajectoires_sf <- trajectoires_sf %>%\n",
    "  mutate(within_updated = lengths(st_within(geometry, front_polygon_updated)) > 0)\n",
    "\n",
    "print(\"Ajout de la colonne `within_updated` réussi...\")\n",
    "\n",
    "# Visualiser avec ggplot2\n",
    "ggplot() +\n",
    "  geom_sf(data = front_polygon_updated, fill = NA, color = \"blue\", linetype = \"dashed\") +\n",
    "  geom_sf(data = trajectoires_sf, aes(color = within_updated), size = 1) +\n",
    "  labs(title = \"Trajectoires et statut dans le polygone\",\n",
    "       color = \"Dans polygone\",\n",
    "       x = \"Longitude\",\n",
    "       y = \"Latitude\") +\n",
    "  theme_minimal()\n",
    "\n",
    "print(\"Carte générée avec succès...\")\n",
    "\n",
    "# Sauvegarder le CSV mis à jour\n",
    "write.csv(st_drop_geometry(trajectoires_sf), \"trajectoires_drones_with_TRUE_FALSE.csv\", row.names = FALSE)\n",
    "trajectoires_sf <- read.csv(\"trajectoires_drones_with_TRUE_FALSE.csv\")\n",
    "print(\"Sauvegarde du CSV réussie...\")"
   ]
  },
  {
   "cell_type": "code",
   "execution_count": 72,
   "metadata": {
    "vscode": {
     "languageId": "r"
    }
   },
   "outputs": [
    {
     "data": {
      "text/html": [
       "<table class=\"dataframe\">\n",
       "<caption>A data.frame: 6 × 13</caption>\n",
       "<thead>\n",
       "\t<tr><th></th><th scope=col>Drone_ID</th><th scope=col>Drone_Type</th><th scope=col>Origine</th><th scope=col>Segment</th><th scope=col>Iteration</th><th scope=col>Nom</th><th scope=col>Vitesse</th><th scope=col>Altitude</th><th scope=col>Distance_Cumulee</th><th scope=col>Temps_Ecoule</th><th scope=col>long</th><th scope=col>lat</th><th scope=col>within_updated</th></tr>\n",
       "\t<tr><th></th><th scope=col>&lt;chr&gt;</th><th scope=col>&lt;chr&gt;</th><th scope=col>&lt;chr&gt;</th><th scope=col>&lt;chr&gt;</th><th scope=col>&lt;int&gt;</th><th scope=col>&lt;chr&gt;</th><th scope=col>&lt;dbl&gt;</th><th scope=col>&lt;dbl&gt;</th><th scope=col>&lt;dbl&gt;</th><th scope=col>&lt;dbl&gt;</th><th scope=col>&lt;dbl&gt;</th><th scope=col>&lt;dbl&gt;</th><th scope=col>&lt;lgl&gt;</th></tr>\n",
       "</thead>\n",
       "<tbody>\n",
       "\t<tr><th scope=row>1</th><td>Drone_1</td><td>Suicide</td><td>Ukrainien</td><td>Suicide</td><td>1</td><td>Babor</td><td> 88.62709</td><td>278.1377</td><td>0.000000</td><td>0.00000000</td><td>33.38500</td><td>47.90730</td><td>TRUE</td></tr>\n",
       "\t<tr><th scope=row>2</th><td>Drone_1</td><td>Suicide</td><td>Ukrainien</td><td>Suicide</td><td>1</td><td>Babor</td><td> 93.31744</td><td>336.6183</td><td>1.980528</td><td>0.02122356</td><td>33.38609</td><td>47.88950</td><td>TRUE</td></tr>\n",
       "\t<tr><th scope=row>3</th><td>Drone_1</td><td>Suicide</td><td>Ukrainien</td><td>Suicide</td><td>1</td><td>Babor</td><td> 79.59781</td><td>335.8515</td><td>3.961056</td><td>0.04976339</td><td>33.38717</td><td>47.87171</td><td>TRUE</td></tr>\n",
       "\t<tr><th scope=row>4</th><td>Drone_1</td><td>Suicide</td><td>Ukrainien</td><td>Suicide</td><td>1</td><td>Babor</td><td> 93.76041</td><td>341.9991</td><td>5.941585</td><td>0.06336986</td><td>33.38826</td><td>47.85391</td><td>TRUE</td></tr>\n",
       "\t<tr><th scope=row>5</th><td>Drone_1</td><td>Suicide</td><td>Ukrainien</td><td>Suicide</td><td>1</td><td>Babor</td><td>101.74465</td><td>342.3228</td><td>7.922113</td><td>0.07786269</td><td>33.38935</td><td>47.83611</td><td>TRUE</td></tr>\n",
       "\t<tr><th scope=row>6</th><td>Drone_1</td><td>Suicide</td><td>Ukrainien</td><td>Suicide</td><td>1</td><td>Babor</td><td>106.17041</td><td>354.6104</td><td>9.902641</td><td>0.09327120</td><td>33.39043</td><td>47.81832</td><td>TRUE</td></tr>\n",
       "</tbody>\n",
       "</table>\n"
      ],
      "text/latex": [
       "A data.frame: 6 × 13\n",
       "\\begin{tabular}{r|lllllllllllll}\n",
       "  & Drone\\_ID & Drone\\_Type & Origine & Segment & Iteration & Nom & Vitesse & Altitude & Distance\\_Cumulee & Temps\\_Ecoule & long & lat & within\\_updated\\\\\n",
       "  & <chr> & <chr> & <chr> & <chr> & <int> & <chr> & <dbl> & <dbl> & <dbl> & <dbl> & <dbl> & <dbl> & <lgl>\\\\\n",
       "\\hline\n",
       "\t1 & Drone\\_1 & Suicide & Ukrainien & Suicide & 1 & Babor &  88.62709 & 278.1377 & 0.000000 & 0.00000000 & 33.38500 & 47.90730 & TRUE\\\\\n",
       "\t2 & Drone\\_1 & Suicide & Ukrainien & Suicide & 1 & Babor &  93.31744 & 336.6183 & 1.980528 & 0.02122356 & 33.38609 & 47.88950 & TRUE\\\\\n",
       "\t3 & Drone\\_1 & Suicide & Ukrainien & Suicide & 1 & Babor &  79.59781 & 335.8515 & 3.961056 & 0.04976339 & 33.38717 & 47.87171 & TRUE\\\\\n",
       "\t4 & Drone\\_1 & Suicide & Ukrainien & Suicide & 1 & Babor &  93.76041 & 341.9991 & 5.941585 & 0.06336986 & 33.38826 & 47.85391 & TRUE\\\\\n",
       "\t5 & Drone\\_1 & Suicide & Ukrainien & Suicide & 1 & Babor & 101.74465 & 342.3228 & 7.922113 & 0.07786269 & 33.38935 & 47.83611 & TRUE\\\\\n",
       "\t6 & Drone\\_1 & Suicide & Ukrainien & Suicide & 1 & Babor & 106.17041 & 354.6104 & 9.902641 & 0.09327120 & 33.39043 & 47.81832 & TRUE\\\\\n",
       "\\end{tabular}\n"
      ],
      "text/markdown": [
       "\n",
       "A data.frame: 6 × 13\n",
       "\n",
       "| <!--/--> | Drone_ID &lt;chr&gt; | Drone_Type &lt;chr&gt; | Origine &lt;chr&gt; | Segment &lt;chr&gt; | Iteration &lt;int&gt; | Nom &lt;chr&gt; | Vitesse &lt;dbl&gt; | Altitude &lt;dbl&gt; | Distance_Cumulee &lt;dbl&gt; | Temps_Ecoule &lt;dbl&gt; | long &lt;dbl&gt; | lat &lt;dbl&gt; | within_updated &lt;lgl&gt; |\n",
       "|---|---|---|---|---|---|---|---|---|---|---|---|---|---|\n",
       "| 1 | Drone_1 | Suicide | Ukrainien | Suicide | 1 | Babor |  88.62709 | 278.1377 | 0.000000 | 0.00000000 | 33.38500 | 47.90730 | TRUE |\n",
       "| 2 | Drone_1 | Suicide | Ukrainien | Suicide | 1 | Babor |  93.31744 | 336.6183 | 1.980528 | 0.02122356 | 33.38609 | 47.88950 | TRUE |\n",
       "| 3 | Drone_1 | Suicide | Ukrainien | Suicide | 1 | Babor |  79.59781 | 335.8515 | 3.961056 | 0.04976339 | 33.38717 | 47.87171 | TRUE |\n",
       "| 4 | Drone_1 | Suicide | Ukrainien | Suicide | 1 | Babor |  93.76041 | 341.9991 | 5.941585 | 0.06336986 | 33.38826 | 47.85391 | TRUE |\n",
       "| 5 | Drone_1 | Suicide | Ukrainien | Suicide | 1 | Babor | 101.74465 | 342.3228 | 7.922113 | 0.07786269 | 33.38935 | 47.83611 | TRUE |\n",
       "| 6 | Drone_1 | Suicide | Ukrainien | Suicide | 1 | Babor | 106.17041 | 354.6104 | 9.902641 | 0.09327120 | 33.39043 | 47.81832 | TRUE |\n",
       "\n"
      ],
      "text/plain": [
       "  Drone_ID Drone_Type Origine   Segment Iteration Nom   Vitesse   Altitude\n",
       "1 Drone_1  Suicide    Ukrainien Suicide 1         Babor  88.62709 278.1377\n",
       "2 Drone_1  Suicide    Ukrainien Suicide 1         Babor  93.31744 336.6183\n",
       "3 Drone_1  Suicide    Ukrainien Suicide 1         Babor  79.59781 335.8515\n",
       "4 Drone_1  Suicide    Ukrainien Suicide 1         Babor  93.76041 341.9991\n",
       "5 Drone_1  Suicide    Ukrainien Suicide 1         Babor 101.74465 342.3228\n",
       "6 Drone_1  Suicide    Ukrainien Suicide 1         Babor 106.17041 354.6104\n",
       "  Distance_Cumulee Temps_Ecoule long     lat      within_updated\n",
       "1 0.000000         0.00000000   33.38500 47.90730 TRUE          \n",
       "2 1.980528         0.02122356   33.38609 47.88950 TRUE          \n",
       "3 3.961056         0.04976339   33.38717 47.87171 TRUE          \n",
       "4 5.941585         0.06336986   33.38826 47.85391 TRUE          \n",
       "5 7.922113         0.07786269   33.38935 47.83611 TRUE          \n",
       "6 9.902641         0.09327120   33.39043 47.81832 TRUE          "
      ]
     },
     "metadata": {},
     "output_type": "display_data"
    }
   ],
   "source": [
    "trajectoires_for_classification <- trajectoires_sf %>%\n",
    "    filter(within_updated == \"TRUE\")\n",
    "write.csv(trajectoires_for_classification, \"trajectoires_drones_only_within_polygon.csv\")\n",
    "head(trajectoires_for_classification)"
   ]
  }
 ],
 "metadata": {
  "kernelspec": {
   "display_name": "R",
   "language": "R",
   "name": "ir"
  },
  "language_info": {
   "codemirror_mode": "r",
   "file_extension": ".r",
   "mimetype": "text/x-r-source",
   "name": "R",
   "pygments_lexer": "r",
   "version": "4.4.1"
  }
 },
 "nbformat": 4,
 "nbformat_minor": 2
}
