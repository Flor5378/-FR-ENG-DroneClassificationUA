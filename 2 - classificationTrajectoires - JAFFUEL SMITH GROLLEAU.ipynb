{
 "cells": [
  {
   "cell_type": "code",
   "execution_count": 29,
   "metadata": {
    "vscode": {
     "languageId": "r"
    }
   },
   "outputs": [],
   "source": [
    "library(dplyr)\n",
    "library(randomForest)\n",
    "library(pROC)\n",
    "library(caret)\n",
    "library(geosphere)\n",
    "library(readr)\n",
    "library(sf)\n",
    "library(ggplot2)\n",
    "library(tidyr)"
   ]
  },
  {
   "cell_type": "code",
   "execution_count": 30,
   "metadata": {
    "vscode": {
     "languageId": "r"
    }
   },
   "outputs": [
    {
     "name": "stderr",
     "output_type": "stream",
     "text": [
      "\u001b[1m\u001b[22mNew names:\n",
      "\u001b[36m•\u001b[39m `` -> `...1`\n",
      "\u001b[1mRows: \u001b[22m\u001b[34m106095\u001b[39m \u001b[1mColumns: \u001b[22m\u001b[34m14\u001b[39m\n",
      "\u001b[36m──\u001b[39m \u001b[1mColumn specification\u001b[22m \u001b[36m────────────────────────────────────────────────────────\u001b[39m\n",
      "\u001b[1mDelimiter:\u001b[22m \",\"\n",
      "\u001b[31mchr\u001b[39m (5): Drone_ID, Drone_Type, Origine, Segment, Nom\n",
      "\u001b[32mdbl\u001b[39m (8): ...1, Iteration, Vitesse, Altitude, Distance_Cumulee, Temps_Ecoule,...\n",
      "\u001b[33mlgl\u001b[39m (1): within_updated\n",
      "\n",
      "\u001b[36mℹ\u001b[39m Use `spec()` to retrieve the full column specification for this data.\n",
      "\u001b[36mℹ\u001b[39m Specify the column types or set `show_col_types = FALSE` to quiet this message.\n",
      "\u001b[1mRows: \u001b[22m\u001b[34m4\u001b[39m \u001b[1mColumns: \u001b[22m\u001b[34m9\u001b[39m\n",
      "\u001b[36m──\u001b[39m \u001b[1mColumn specification\u001b[22m \u001b[36m────────────────────────────────────────────────────────\u001b[39m\n",
      "\u001b[1mDelimiter:\u001b[22m \",\"\n",
      "\u001b[31mchr\u001b[39m (3): Nom, Origine, Type\n",
      "\u001b[32mdbl\u001b[39m (6): Altitudemax, Vitessemax, Portee(km), Altitudemin, Cruisespeed, Port...\n",
      "\n",
      "\u001b[36mℹ\u001b[39m Use `spec()` to retrieve the full column specification for this data.\n",
      "\u001b[36mℹ\u001b[39m Specify the column types or set `show_col_types = FALSE` to quiet this message.\n"
     ]
    }
   ],
   "source": [
    "trajectoires <- read_csv(\"trajectoires_drones_only_within_polygon.csv\")\n",
    "caracteristiques <- read_csv(\"caracteristique_drone.csv\")"
   ]
  },
  {
   "cell_type": "markdown",
   "metadata": {},
   "source": [
    "Calcul de la distance entre le premier point répertorié et la frontière"
   ]
  },
  {
   "cell_type": "code",
   "execution_count": 31,
   "metadata": {
    "vscode": {
     "languageId": "r"
    }
   },
   "outputs": [],
   "source": [
    "# Convertir les données en objet sf avec les colonnes de longitude et latitude\n",
    "trajectoires_sf <- st_as_sf(trajectoires, coords = c(\"long\", \"lat\"), crs = 4326)\n",
    "\n",
    "# Définir toutes les lignes de front comme déjà fait dans votre code\n",
    "line_front_1 <- st_linestring(matrix(c(38.45637663250045, 48.532826797664846,\n",
    "                                       37.7658438650635, 50.07933496745732), ncol = 2, byrow = TRUE))\n",
    "line_front_2 <- st_linestring(matrix(c(32.1672572599026, 46.434198799864376,\n",
    "                                       38.45637663250045, 48.532826797664846), ncol = 2, byrow = TRUE))\n",
    "line_front_3 <- st_linestring(matrix(c(37.7658438650635, 50.07933496745732,\n",
    "                                       34.73281464092588, 50.92405887999426), ncol = 2, byrow = TRUE))\n",
    "line_front_4 <- st_linestring(matrix(c(34.73281464092588, 50.92405887999426,\n",
    "                                       33.2228480040779, 52.2874298771795), ncol = 2, byrow = TRUE))\n",
    "line_front_5 <- st_linestring(matrix(c(33.2228480040779, 52.2874298771795,\n",
    "                                       28.681296931138895, 51.36480437280772), ncol = 2, byrow = TRUE))\n",
    "line_front_6 <- st_linestring(matrix(c(28.681296931138895, 51.36480437280772,\n",
    "                                       23.804251089502966, 51.633903542920415), ncol = 2, byrow = TRUE))\n",
    "line_front_7 <- st_linestring(matrix(c(23.804251089502966, 51.633903542920415,\n",
    "                                       22.427459199975896, 48.35732598510753), ncol = 2, byrow = TRUE))\n",
    "line_front_8 <- st_linestring(matrix(c(22.427459199975896, 48.35732598510753,\n",
    "                                       29.422670952108504, 48.078730771810925), ncol = 2, byrow = TRUE))\n",
    "line_front_9 <- st_linestring(matrix(c(29.422670952108504, 48.078730771810925,\n",
    "                                       28.414621049701758, 45.30127917139041), ncol = 2, byrow = TRUE))"
   ]
  },
  {
   "cell_type": "code",
   "execution_count": 32,
   "metadata": {
    "vscode": {
     "languageId": "r"
    }
   },
   "outputs": [],
   "source": [
    "# Combiner les lignes de front en un objet sf\n",
    "front_lines <- st_sfc(list(line_front_1, line_front_2, line_front_3, line_front_4, line_front_5, \n",
    "                           line_front_6, line_front_7, line_front_8, line_front_9), crs = 4326)\n",
    "\n",
    "# Fermer les lignes de front en un polygone\n",
    "all_lines <- st_union(front_lines)\n",
    "\n",
    "# Convertir en POLYGON si possible\n",
    "front_polygon <- st_cast(all_lines, \"POLYGON\")\n",
    "\n",
    "# Vérifier si chaque point est à l'intérieur du polygone\n",
    "trajectoires_sf <- trajectoires_sf %>%\n",
    "  mutate(within = st_within(trajectoires_sf, front_polygon, sparse = FALSE)) %>%\n",
    "  mutate(within = as.logical(within))  # Convertir la colonne en TRUE/FALSE\n",
    "\n",
    "# Convertir le résultat en data.frame pour le sauvegarder\n",
    "trajectoires_result <- as.data.frame(trajectoires_sf)\n"
   ]
  },
  {
   "cell_type": "code",
   "execution_count": 33,
   "metadata": {
    "vscode": {
     "languageId": "r"
    }
   },
   "outputs": [],
   "source": [
    "# Extraire la bordure du polygone (bordure = \"boundary\")\n",
    "front_polygon_border <- st_cast(front_polygon, \"MULTILINESTRING\")\n",
    "\n",
    "# Définir une distance seuil pour \"proche de la bordure\" (en mètres)\n",
    "distance_seuil <- 10000 "
   ]
  },
  {
   "cell_type": "markdown",
   "metadata": {},
   "source": [
    "Création des features pour notre RandomForest"
   ]
  },
  {
   "cell_type": "code",
   "execution_count": 34,
   "metadata": {
    "vscode": {
     "languageId": "r"
    }
   },
   "outputs": [],
   "source": [
    "# Calculer la distance du premier point à la bordure\n",
    "trajectoires_resume <- trajectoires %>%\n",
    "  group_by(Drone_ID) %>%\n",
    "  summarise(\n",
    "    First_Point = first(st_sfc(st_point(c(first(long), first(lat))), crs = 4326)),\n",
    "    Distance_Bordure = as.numeric(st_distance(First_Point, front_polygon_border, by_element = TRUE)),\n",
    "    Direction_Ukraine = ifelse(first(long) > nth(long, 2), 1, 0),\n",
    "    Changement_Direction = ifelse(var(long, na.rm = TRUE) > 0.1 | var(lat, na.rm = TRUE) > 0.1, 1, 0),\n",
    "    Premiere_Appearance = ifelse(Distance_Bordure <= distance_seuil, 1, 0), \n",
    "    Origine = first(Origine),\n",
    "    Type = first(Drone_Type),\n",
    "    Vitesse = mean(Vitesse[1:5], na.rm = TRUE),\n",
    "    Altitude = mean(Altitude[1:5], na.rm = TRUE)\n",
    "  )\n",
    "\n",
    "# Joindre les caractéristiques des drones\n",
    "resultat_final <- trajectoires_resume %>%\n",
    "  left_join(caracteristiques, by = c(\"Origine\" = \"Origine\", \"Type\" = \"Type\"))\n",
    "  #rename Origine en 1 si russe et en 0 si Ukrainien\n",
    "  resultat_final$Origine <- ifelse(resultat_final$Origine == \"Russe\", 1, 0)\n",
    "  resultat_final$Type <- ifelse(resultat_final$Type == \"Suicide\", 1, 0)"
   ]
  },
  {
   "cell_type": "markdown",
   "metadata": {},
   "source": [
    "Resultat de la classification"
   ]
  },
  {
   "cell_type": "code",
   "execution_count": 35,
   "metadata": {
    "vscode": {
     "languageId": "r"
    }
   },
   "outputs": [
    {
     "name": "stdout",
     "output_type": "stream",
     "text": [
      "### Évaluation du modèle pour Origine ###\n",
      "Confusion Matrix and Statistics\n",
      "\n",
      "          Reference\n",
      "Prediction   0   1\n",
      "         0  89   0\n",
      "         1   0 110\n",
      "                                     \n",
      "               Accuracy : 1          \n",
      "                 95% CI : (0.9816, 1)\n",
      "    No Information Rate : 0.5528     \n",
      "    P-Value [Acc > NIR] : < 2.2e-16  \n",
      "                                     \n",
      "                  Kappa : 1          \n",
      "                                     \n",
      " Mcnemar's Test P-Value : NA         \n",
      "                                     \n",
      "            Sensitivity : 1.0000     \n",
      "            Specificity : 1.0000     \n",
      "         Pos Pred Value : 1.0000     \n",
      "         Neg Pred Value : 1.0000     \n",
      "             Prevalence : 0.4472     \n",
      "         Detection Rate : 0.4472     \n",
      "   Detection Prevalence : 0.4472     \n",
      "      Balanced Accuracy : 1.0000     \n",
      "                                     \n",
      "       'Positive' Class : 0          \n",
      "                                     \n",
      "\n",
      "### Importance des variables pour Origine ###\n",
      "                             0            1 MeanDecreaseAccuracy\n",
      "Distance_Bordure     17.203753 21.513370160           20.4523075\n",
      "Direction_Ukraine    -1.428221  1.276987333            0.0097268\n",
      "Changement_Direction -1.005038 -0.005460244           -1.4284929\n",
      "Vitesse               3.201873  2.074931659            3.7366820\n",
      "Altitude              6.334877  7.783543352            7.4672595\n",
      "                     MeanDecreaseGini\n",
      "Distance_Bordure          260.5137093\n",
      "Direction_Ukraine           4.4973279\n",
      "Changement_Direction        0.5439989\n",
      "Vitesse                    31.0953127\n",
      "Altitude                   99.7622864\n"
     ]
    }
   ],
   "source": [
    "# Sélectionner uniquement les caractéristiques autorisées et les cibles\n",
    "features <- c(\"Distance_Bordure\", \"Direction_Ukraine\", \"Changement_Direction\", \"Vitesse\", \"Altitude\")\n",
    "target_origin <- \"Origine\"\n",
    "\n",
    "# Vérification des valeurs manquantes et imputation\n",
    "resultat_final <- resultat_final %>% mutate(across(all_of(features), ~ ifelse(is.na(.), median(., na.rm = TRUE), .)))\n",
    "\n",
    "# Division des données en ensembles d'entraînement et de test (80/20)\n",
    "set.seed(42)\n",
    "trainIndex <- createDataPartition(resultat_final$Origine, p = 0.8, list = FALSE)\n",
    "train_data <- resultat_final[trainIndex, ]\n",
    "test_data <- resultat_final[-trainIndex, ]\n",
    "\n",
    "# Entraîner un modèle Random Forest pour prédire l'origine\n",
    "rf_origin <- randomForest(as.factor(Origine) ~ ., \n",
    "              data = train_data[, c(features, target_origin)],\n",
    "              ntree = 100, importance = TRUE)\n",
    "\n",
    "# Prédire pour Origine\n",
    "pred_origin <- predict(rf_origin, newdata = test_data)\n",
    "\n",
    "# Évaluation du modèle pour Origine\n",
    "cat(\"### Évaluation du modèle pour Origine ###\\n\")\n",
    "print(confusionMatrix(as.factor(pred_origin), as.factor(test_data$Origine)))\n",
    "\n",
    "# Importance des variables\n",
    "cat(\"\\n### Importance des variables pour Origine ###\\n\")\n",
    "importance_values <- importance(rf_origin)\n",
    "print(importance_values)\n",
    "\n",
    "# Enregistrer dans un dataframe l'output du random forest, les données sur l'importance de chaque variable afin de produire un graphique\n",
    "output_origin <- data.frame(\n",
    "  Variable = rownames(importance_values),\n",
    "  ImportanceUkraine = importance_values[, \"0\"],\n",
    "  ImportanceRusse = importance_values[, \"1\"]\n",
    ")\n"
   ]
  },
  {
   "cell_type": "code",
   "execution_count": 36,
   "metadata": {
    "vscode": {
     "languageId": "r"
    }
   },
   "outputs": [
    {
     "name": "stdout",
     "output_type": "stream",
     "text": [
      "\n",
      "### Évaluation du modèle pour Type ###\n",
      "Confusion Matrix and Statistics\n",
      "\n",
      "          Reference\n",
      "Prediction   0   1\n",
      "         0 100   0\n",
      "         1   0  99\n",
      "                                     \n",
      "               Accuracy : 1          \n",
      "                 95% CI : (0.9816, 1)\n",
      "    No Information Rate : 0.5025     \n",
      "    P-Value [Acc > NIR] : < 2.2e-16  \n",
      "                                     \n",
      "                  Kappa : 1          \n",
      "                                     \n",
      " Mcnemar's Test P-Value : NA         \n",
      "                                     \n",
      "            Sensitivity : 1.0000     \n",
      "            Specificity : 1.0000     \n",
      "         Pos Pred Value : 1.0000     \n",
      "         Neg Pred Value : 1.0000     \n",
      "             Prevalence : 0.5025     \n",
      "         Detection Rate : 0.5025     \n",
      "   Detection Prevalence : 0.5025     \n",
      "      Balanced Accuracy : 1.0000     \n",
      "                                     \n",
      "       'Positive' Class : 0          \n",
      "                                     \n",
      "\n",
      "### Importance des variables pour Type ###\n",
      "                              0         1 MeanDecreaseAccuracy MeanDecreaseGini\n",
      "Distance_Bordure      4.7697606  5.508912             6.402599        7.5768700\n",
      "Direction_Ukraine    -0.4028728  2.482952             2.222621        3.0876787\n",
      "Changement_Direction  0.4601262  1.426360             1.454938        0.7830698\n",
      "Vitesse               5.5461083  6.175482             7.007048      147.2377189\n",
      "Altitude             30.2149101 30.636132            35.965876      235.2849863\n"
     ]
    }
   ],
   "source": [
    "target_type <- \"Type\"\n",
    "\n",
    "# Entraîner un modèle Random Forest pour prédire le Type\n",
    "rf_type <- randomForest(as.factor(Type) ~ ., \n",
    "            data = train_data[, c(features, target_type)],\n",
    "            ntree = 100, importance = TRUE)\n",
    "\n",
    "# Prédire pour Type\n",
    "pred_type <- predict(rf_type, newdata = test_data)\n",
    "\n",
    "# Évaluation du modèle pour Type\n",
    "cat(\"\\n### Évaluation du modèle pour Type ###\\n\")\n",
    "print(confusionMatrix(as.factor(pred_type), as.factor(test_data$Type)))\n",
    "\n",
    "# Importance des variables\n",
    "cat(\"\\n### Importance des variables pour Type ###\\n\")\n",
    "importance_values_type <- importance(rf_type)\n",
    "print(importance_values_type)\n",
    "\n",
    "# Enregistrer dans un dataframe l'output du random forest, les données sur l'importance de chaque variable afin de produire un graphique\n",
    "output_type <- data.frame(\n",
    "  Variable = rownames(importance_values_type),\n",
    "  ImportanceUkraine = importance_values_type[, \"0\"],\n",
    "  ImportanceRusse = importance_values_type[, \"1\"]\n",
    ")"
   ]
  },
  {
   "cell_type": "markdown",
   "metadata": {},
   "source": [
    "Graphique"
   ]
  },
  {
   "cell_type": "code",
   "execution_count": 37,
   "metadata": {
    "vscode": {
     "languageId": "r"
    }
   },
   "outputs": [
    {
     "data": {
      "image/png": "[encoded data removed]",
      "text/plain": [
       "plot without title"
      ]
     },
     "metadata": {
      "image/png": {
       "height": 420,
       "width": 420
      }
     },
     "output_type": "display_data"
    },
    {
     "data": {
      "image/png": "[encoded data removed]",
      "text/plain": [
       "plot without title"
      ]
     },
     "metadata": {
      "image/png": {
       "height": 420,
       "width": 420
      }
     },
     "output_type": "display_data"
    }
   ],
   "source": [
    "# Transformation des données pour ggplot\n",
    "output_origin_long <- pivot_longer(output_origin, cols = c(\"ImportanceUkraine\", \"ImportanceRusse\"), \n",
    "                   names_to = \"Class\", \n",
    "                   values_to = \"Importance\")\n",
    "\n",
    "output_type_long <- pivot_longer(output_type, cols = c(\"ImportanceUkraine\", \"ImportanceRusse\"), \n",
    "                 names_to = \"Class\", \n",
    "                 values_to = \"Importance\")\n",
    "\n",
    "# Graphique pour Origine\n",
    "ggplot(output_origin_long, aes(x = Variable, y = Importance, fill = Class)) +\n",
    "  geom_bar(stat = \"identity\", position = \"dodge\") +\n",
    "  labs(\n",
    "  title = \"Importance des variables pour Origine\",\n",
    "  x = \"Caractéristiques\",\n",
    "  y = \"Importance\"\n",
    "  ) +\n",
    "  theme_minimal() +\n",
    "  theme(axis.text.x = element_text(angle = 45, hjust = 1)) +\n",
    "  scale_fill_manual(values = c(\"ImportanceUkraine\" = \"steelblue\", \"ImportanceRusse\" = \"orange\"))\n",
    "\n",
    "# Graphique pour Type\n",
    "ggplot(output_type_long, aes(x = Variable, y = Importance, fill = Class)) +\n",
    "  geom_bar(stat = \"identity\", position = \"dodge\") +\n",
    "  labs(\n",
    "  title = \"Importance des variables pour Type\",\n",
    "  x = \"Caractéristiques\",\n",
    "  y = \"Importance\"\n",
    "  ) +\n",
    "  theme_minimal() +\n",
    "  theme(axis.text.x = element_text(angle = 45, hjust = 1)) +\n",
    "  scale_fill_manual(values = c(\"ImportanceUkraine\" = \"steelblue\", \"ImportanceRusse\" = \"orange\"))\n"
   ]
  }
 ],
 "metadata": {
  "kernelspec": {
   "display_name": "R",
   "language": "R",
   "name": "ir"
  },
  "language_info": {
   "codemirror_mode": "r",
   "file_extension": ".r",
   "mimetype": "text/x-r-source",
   "name": "R",
   "pygments_lexer": "r",
   "version": "4.4.1"
  }
 },
 "nbformat": 4,
 "nbformat_minor": 2
}
